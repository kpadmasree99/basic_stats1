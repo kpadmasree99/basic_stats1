{
 "cells": [
  {
   "cell_type": "markdown",
   "id": "53bb960a-c38b-450e-ada5-ff19119e8601",
   "metadata": {},
   "source": [
    "# Estimation And Confidence Intervals\n",
    "\n"
   ]
  },
  {
   "cell_type": "markdown",
   "id": "36d95b0f-a814-4348-aaeb-c85a5a3c6ab8",
   "metadata": {},
   "source": [
    "\n",
    "Background\n",
    "\n"
   ]
  },
  {
   "cell_type": "code",
   "execution_count": null,
   "id": "336a3e1a-572a-4a29-a6c7-228687d507ef",
   "metadata": {},
   "outputs": [],
   "source": []
  },
  {
   "cell_type": "markdown",
   "id": "5c56f838-25cc-4f35-a2bd-c54e17ceba25",
   "metadata": {},
   "source": [
    "In quality control processes, especially when dealing with high-value items, destructive sampling is a necessary but costly method to ensure product quality. The test to determine whether an item meets the quality standards destroys the item, leading to the requirement of small sample sizes due to cost constraints."
   ]
  },
  {
   "cell_type": "markdown",
   "id": "67c4d1d6-f671-4abd-b076-6280d3369b29",
   "metadata": {},
   "source": [
    "Scenario"
   ]
  },
  {
   "cell_type": "markdown",
   "id": "12429745-ac9a-4e7f-ab7a-96f7c252b134",
   "metadata": {},
   "source": [
    "A manufacturer of print-heads for personal computers is interested in estimating the mean durability of their print-heads in terms of the number of characters printed before failure. To assess this, the manufacturer conducts a study on a small sample of print-heads due to the destructive nature of the testing process."
   ]
  },
  {
   "cell_type": "markdown",
   "id": "aaec6672-f637-4eec-b04f-7593c7804e38",
   "metadata": {},
   "source": [
    "Data"
   ]
  },
  {
   "cell_type": "markdown",
   "id": "119cab0c-ff9c-47be-b2cc-5c01c2c2b716",
   "metadata": {},
   "source": [
    "A total of 15 print-heads were randomly selected and tested until failure. The durability of each print-head (in millions of characters) was recorded as follows:"
   ]
  },
  {
   "cell_type": "code",
   "execution_count": 24,
   "id": "d3594ffd-ef81-45e4-81d2-ca104658f00d",
   "metadata": {},
   "outputs": [
    {
     "name": "stdout",
     "output_type": "stream",
     "text": [
      "[1.13, 1.55, 1.43, 0.92, 1.25, 1.36, 1.32, 0.85, 1.07, 1.48, 1.2, 1.33, 1.18, 1.22, 1.29]\n"
     ]
    }
   ],
   "source": [
    "data = [1.13, 1.55, 1.43, 0.92, 1.25, 1.36, 1.32, 0.85, 1.07, 1.48, 1.20, 1.33, 1.18, 1.22, 1.29] # Its use data find\n",
    "print(data) # to display the data"
   ]
  },
  {
   "cell_type": "markdown",
   "id": "54042382-373e-47b9-93f7-336eae6d97fa",
   "metadata": {},
   "source": [
    "# Assignment Tasks"
   ]
  },
  {
   "cell_type": "markdown",
   "id": "f624b4a0-0d67-4297-9b6b-e0cec69e7249",
   "metadata": {},
   "source": [
    "**a. Build 99% Confidence Interval Using Sample Standard Deviation**"
   ]
  },
  {
   "cell_type": "markdown",
   "id": "25e5651e-e403-4cf4-8b0a-aca807ddd05c",
   "metadata": {},
   "source": [
    "Assuming the sample is representative of the population, construct a 99% confidence interval for the mean number of characters printed before the print-head fails using the sample standard deviation. Explain the steps you take and the rationale behind using the t-distribution for this task."
   ]
  },
  {
   "cell_type": "code",
   "execution_count": 44,
   "id": "07412186-0f65-4bf6-a1df-032af3e8fc99",
   "metadata": {},
   "outputs": [],
   "source": [
    "import numpy as np # importing numpy "
   ]
  },
  {
   "cell_type": "code",
   "execution_count": 46,
   "id": "cf4467dd-f99a-4a95-893d-8187b82d2e78",
   "metadata": {},
   "outputs": [
    {
     "data": {
      "text/plain": [
       "array([1.13, 1.55, 1.43, 0.92, 1.25, 1.36, 1.32, 0.85, 1.07, 1.48, 1.2 ,\n",
       "       1.33, 1.18, 1.22, 1.29])"
      ]
     },
     "execution_count": 46,
     "metadata": {},
     "output_type": "execute_result"
    }
   ],
   "source": [
    "data = np.array([1.13, 1.55, 1.43, 0.92, 1.25, 1.36, 1.32, 0.85, 1.07, 1.48, 1.20, 1.33, 1.18, 1.22, 1.29]) # its converting into array form\n",
    "data\n"
   ]
  },
  {
   "cell_type": "code",
   "execution_count": 48,
   "id": "f9b8bf56-c3f3-4964-9fab-90aac1ccf872",
   "metadata": {},
   "outputs": [],
   "source": [
    "import scipy.stats as stats # its use for stats "
   ]
  },
  {
   "cell_type": "code",
   "execution_count": 58,
   "id": "9845a582-c4c8-442c-ba98-56c37e1fc677",
   "metadata": {},
   "outputs": [
    {
     "name": "stdout",
     "output_type": "stream",
     "text": [
      "Sample standard deviation:- 0.19316412956959936\n",
      "Confidence interval lower:- 1.2393030255614395\n",
      "Confidence interval upper:- 1.2380303077718937\n"
     ]
    }
   ],
   "source": [
    "lenth = len(data) # size of the data\n",
    "mean = np.mean(data) # find mean of the data\n",
    "std = np.std(data, ddof =1)# find Sample standard deviation and ddof=1 gives the sample standard deviation\n",
    "confidence_level = 0.99\n",
    "t_critical = stats.t.ppf((confidence_level)/2, df=n-1)# corresponding t critical value\n",
    "margin_of_error = t_critical * (sample_std / np.sqrt(n))#Margin of error\n",
    "ci_lower = sample_mean - margin_of_error#Confidence interval lower\n",
    "\n",
    "ci_upper = sample_mean + margin_of_error#Confidence interval upper\n",
    "print('Sample standard deviation:-',std)\n",
    "print('Confidence interval lower:-',ci_lower)\n",
    "print('Confidence interval upper:-',ci_upper)\n"
   ]
  },
  {
   "cell_type": "markdown",
   "id": "d12b1b15-8ed6-4423-8dab-72ce008072e9",
   "metadata": {},
   "source": [
    "From above outputs, I consider that the output by using built-in methods or manually calculated values are similar or almost equal.\n",
    "\n",
    "**Here why I am used the t-distribution:**\n",
    "\n",
    "* From the question, There no mension the standard deviation of population. \n",
    "\n",
    "* When the population standard deviation is not mensioned the we go with the t-distribution else we go with z-distribution"
   ]
  },
  {
   "cell_type": "markdown",
   "id": "70edd23d-e873-4976-bcb1-e5030158fe11",
   "metadata": {},
   "source": [
    "# b. Build 99% Confidence Interval Using Known Population Standard Deviation"
   ]
  },
  {
   "cell_type": "markdown",
   "id": "6ff673cc-f492-4c29-b4c1-db4be269bd13",
   "metadata": {},
   "source": [
    "If it were known that the population standard deviation is 0.2 million characters, construct a 99% confidence interval for the mean number of characters printed before failure."
   ]
  },
  {
   "cell_type": "code",
   "execution_count": 69,
   "id": "a9115199-30b3-4d6d-894c-3d3d3bf916a6",
   "metadata": {},
   "outputs": [],
   "source": [
    "from scipy.stats import norm"
   ]
  },
  {
   "cell_type": "code",
   "execution_count": 71,
   "id": "633748db-7de5-4189-a2aa-4dd466fad648",
   "metadata": {},
   "outputs": [
    {
     "name": "stdout",
     "output_type": "stream",
     "text": [
      "standard deviation:- 1.2386666666666666\n",
      "Confidence interval lower:- 1.1056514133957607\n",
      "Confidence interval lower:- 1.3716819199375725\n"
     ]
    }
   ],
   "source": [
    " \n",
    "population_std = 0.2# Known population standard deviation\n",
    "\n",
    "z_critical = stats.norm.ppf((1 + confidence_level) / 2)# z critical value for 99% confidence level\n",
    "\n",
    "\n",
    "margin_of_error_known = z_critical * (population_std / np.sqrt(n))# Margin of error\n",
    "\n",
    "\n",
    "ci_lower_known = sample_mean - margin_of_error_known  # Confidence interval lower\n",
    "ci_upper_known = sample_mean + margin_of_error_known   # Confidence interval upper\n",
    "\n",
    "print('standard deviation:-',sample_mean)\n",
    "print('Confidence interval lower:-',ci_lower_known)\n",
    "print('Confidence interval lower:-',ci_upper_known)\n"
   ]
  },
  {
   "cell_type": "markdown",
   "id": "8ea96356-d769-4672-bcef-ba140941e9c4",
   "metadata": {},
   "source": [
    "From above outputs, I consider that the output by using built-in methods or manually calculated values are similar or almost equal."
   ]
  },
  {
   "cell_type": "code",
   "execution_count": null,
   "id": "3639e4f0-99b6-4bd8-9cc9-1749971abcf0",
   "metadata": {},
   "outputs": [],
   "source": []
  }
 ],
 "metadata": {
  "kernelspec": {
   "display_name": "Python 3 (ipykernel)",
   "language": "python",
   "name": "python3"
  },
  "language_info": {
   "codemirror_mode": {
    "name": "ipython",
    "version": 3
   },
   "file_extension": ".py",
   "mimetype": "text/x-python",
   "name": "python",
   "nbconvert_exporter": "python",
   "pygments_lexer": "ipython3",
   "version": "3.11.7"
  }
 },
 "nbformat": 4,
 "nbformat_minor": 5
}
